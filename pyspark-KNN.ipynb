{
 "cells": [
  {
   "cell_type": "markdown",
   "id": "aaa74f18",
   "metadata": {},
   "source": [
    "鸢尾花数据集，数据集包含3类共150调数据，每类含50个数据，每条记录含4个特征：花萼长度、花萼宽度、花瓣长度、花瓣宽度\n",
    "\n",
    "过这4个 特征预测鸢尾花卉属于（iris-setosa, iris-versicolour, iris-virginica）中的哪一品种"
   ]
  },
  {
   "cell_type": "code",
   "execution_count": 1,
   "id": "93f86d14",
   "metadata": {},
   "outputs": [
    {
     "name": "stdout",
     "output_type": "stream",
     "text": [
      "\r\n",
      "\r\n",
      "\r\n",
      "\r\n",
      "\r\n"
     ]
    }
   ],
   "source": [
    "!head -5 data/lris.csv"
   ]
  },
  {
   "cell_type": "code",
   "execution_count": 2,
   "id": "83dbe46e",
   "metadata": {},
   "outputs": [],
   "source": [
    "##创建环境\n",
    "\n",
    "import findspark\n",
    "findspark.init()\n",
    "##############################################\n",
    "from pyspark.sql import SparkSession\n",
    "from pyspark.sql.types import *\n",
    "\n",
    "spark = SparkSession.builder \\\n",
    "        .master(\"local[*]\") \\\n",
    "        .appName(\"KNNrdd\") \\\n",
    "        .getOrCreate()\n",
    "\n",
    "sc = spark.sparkContext"
   ]
  },
  {
   "cell_type": "code",
   "execution_count": 3,
   "id": "206eaa0c",
   "metadata": {},
   "outputs": [],
   "source": [
    "#获得距离\n",
    "import math\n",
    "def getDis(array1, array2):\n",
    "    return math.sqrt(sum([pow(x-y, 2) for x, y in zip(array1, array2)]))\n",
    "#    return math.sqrt(array1,zip(array2).map(lambda x:pow(x[0]-x[1])).sum)"
   ]
  },
  {
   "cell_type": "code",
   "execution_count": 4,
   "id": "0ef2619a",
   "metadata": {},
   "outputs": [],
   "source": [
    "K = 15\n",
    "data = sc.textFile(\"data/lris.csv\").map(lambda x:x.split(\",\")).filter(lambda x:x[1]!= \"Sepal.Length\" and len(x)==6).map(lambda x:(x[-1], [float(i) for i in x[:-1]]))\n"
   ]
  },
  {
   "cell_type": "code",
   "execution_count": 5,
   "id": "b5ac8e18",
   "metadata": {},
   "outputs": [
    {
     "data": {
      "text/plain": [
       "[('setosa', [1.0, 5.1, 3.5, 1.4, 0.2]),\n",
       " ('setosa', [2.0, 4.9, 3.0, 1.4, 0.2]),\n",
       " ('setosa', [3.0, 4.7, 3.2, 1.3, 0.2]),\n",
       " ('setosa', [4.0, 4.6, 3.1, 1.5, 0.2]),\n",
       " ('setosa', [5.0, 5.0, 3.6, 1.4, 0.2]),\n",
       " ('setosa', [6.0, 5.4, 3.9, 1.7, 0.4]),\n",
       " ('setosa', [7.0, 4.6, 3.4, 1.4, 0.3]),\n",
       " ('setosa', [8.0, 5.0, 3.4, 1.5, 0.2]),\n",
       " ('setosa', [9.0, 4.4, 2.9, 1.4, 0.2]),\n",
       " ('setosa', [10.0, 4.9, 3.1, 1.5, 0.1]),\n",
       " ('setosa', [11.0, 5.4, 3.7, 1.5, 0.2]),\n",
       " ('setosa', [12.0, 4.8, 3.4, 1.6, 0.2]),\n",
       " ('setosa', [13.0, 4.8, 3.0, 1.4, 0.1]),\n",
       " ('setosa', [14.0, 4.3, 3.0, 1.1, 0.1]),\n",
       " ('setosa', [15.0, 5.8, 4.0, 1.2, 0.2]),\n",
       " ('setosa', [16.0, 5.7, 4.4, 1.5, 0.4]),\n",
       " ('setosa', [17.0, 5.4, 3.9, 1.3, 0.4]),\n",
       " ('setosa', [18.0, 5.1, 3.5, 1.4, 0.3]),\n",
       " ('setosa', [19.0, 5.7, 3.8, 1.7, 0.3]),\n",
       " ('setosa', [20.0, 5.1, 3.8, 1.5, 0.3]),\n",
       " ('setosa', [21.0, 5.4, 3.4, 1.7, 0.2]),\n",
       " ('setosa', [22.0, 5.1, 3.7, 1.5, 0.4]),\n",
       " ('setosa', [23.0, 4.6, 3.6, 1.0, 0.2]),\n",
       " ('setosa', [24.0, 5.1, 3.3, 1.7, 0.5]),\n",
       " ('setosa', [25.0, 4.8, 3.4, 1.9, 0.2]),\n",
       " ('setosa', [26.0, 5.0, 3.0, 1.6, 0.2]),\n",
       " ('setosa', [27.0, 5.0, 3.4, 1.6, 0.4]),\n",
       " ('setosa', [28.0, 5.2, 3.5, 1.5, 0.2]),\n",
       " ('setosa', [29.0, 5.2, 3.4, 1.4, 0.2]),\n",
       " ('setosa', [30.0, 4.7, 3.2, 1.6, 0.2]),\n",
       " ('setosa', [31.0, 4.8, 3.1, 1.6, 0.2]),\n",
       " ('setosa', [32.0, 5.4, 3.4, 1.5, 0.4]),\n",
       " ('setosa', [33.0, 5.2, 4.1, 1.5, 0.1]),\n",
       " ('setosa', [34.0, 5.5, 4.2, 1.4, 0.2]),\n",
       " ('setosa', [35.0, 4.9, 3.1, 1.5, 0.2]),\n",
       " ('setosa', [36.0, 5.0, 3.2, 1.2, 0.2]),\n",
       " ('setosa', [37.0, 5.5, 3.5, 1.3, 0.2]),\n",
       " ('setosa', [38.0, 4.9, 3.6, 1.4, 0.1]),\n",
       " ('setosa', [39.0, 4.4, 3.0, 1.3, 0.2]),\n",
       " ('setosa', [40.0, 5.1, 3.4, 1.5, 0.2]),\n",
       " ('setosa', [41.0, 5.0, 3.5, 1.3, 0.3]),\n",
       " ('setosa', [42.0, 4.5, 2.3, 1.3, 0.3]),\n",
       " ('setosa', [43.0, 4.4, 3.2, 1.3, 0.2]),\n",
       " ('setosa', [44.0, 5.0, 3.5, 1.6, 0.6]),\n",
       " ('setosa', [45.0, 5.1, 3.8, 1.9, 0.4]),\n",
       " ('setosa', [46.0, 4.8, 3.0, 1.4, 0.3]),\n",
       " ('setosa', [47.0, 5.1, 3.8, 1.6, 0.2]),\n",
       " ('setosa', [48.0, 4.6, 3.2, 1.4, 0.2]),\n",
       " ('setosa', [49.0, 5.3, 3.7, 1.5, 0.2]),\n",
       " ('setosa', [50.0, 5.0, 3.3, 1.4, 0.2]),\n",
       " ('versicolor', [51.0, 7.0, 3.2, 4.7, 1.4]),\n",
       " ('versicolor', [52.0, 6.4, 3.2, 4.5, 1.5]),\n",
       " ('versicolor', [53.0, 6.9, 3.1, 4.9, 1.5]),\n",
       " ('versicolor', [54.0, 5.5, 2.3, 4.0, 1.3]),\n",
       " ('versicolor', [55.0, 6.5, 2.8, 4.6, 1.5]),\n",
       " ('versicolor', [56.0, 5.7, 2.8, 4.5, 1.3]),\n",
       " ('versicolor', [57.0, 6.3, 3.3, 4.7, 1.6]),\n",
       " ('versicolor', [58.0, 4.9, 2.4, 3.3, 1.0]),\n",
       " ('versicolor', [59.0, 6.6, 2.9, 4.6, 1.3]),\n",
       " ('versicolor', [60.0, 5.2, 2.7, 3.9, 1.4]),\n",
       " ('versicolor', [61.0, 5.0, 2.0, 3.5, 1.0]),\n",
       " ('versicolor', [62.0, 5.9, 3.0, 4.2, 1.5]),\n",
       " ('versicolor', [63.0, 6.0, 2.2, 4.0, 1.0]),\n",
       " ('versicolor', [64.0, 6.1, 2.9, 4.7, 1.4]),\n",
       " ('versicolor', [65.0, 5.6, 2.9, 3.6, 1.3]),\n",
       " ('versicolor', [66.0, 6.7, 3.1, 4.4, 1.4]),\n",
       " ('versicolor', [67.0, 5.6, 3.0, 4.5, 1.5]),\n",
       " ('versicolor', [68.0, 5.8, 2.7, 4.1, 1.0]),\n",
       " ('versicolor', [69.0, 6.2, 2.2, 4.5, 1.5]),\n",
       " ('versicolor', [70.0, 5.6, 2.5, 3.9, 1.1]),\n",
       " ('versicolor', [71.0, 5.9, 3.2, 4.8, 1.8]),\n",
       " ('versicolor', [72.0, 6.1, 2.8, 4.0, 1.3]),\n",
       " ('versicolor', [73.0, 6.3, 2.5, 4.9, 1.5]),\n",
       " ('versicolor', [74.0, 6.1, 2.8, 4.7, 1.2]),\n",
       " ('versicolor', [75.0, 6.4, 2.9, 4.3, 1.3]),\n",
       " ('versicolor', [76.0, 6.6, 3.0, 4.4, 1.4]),\n",
       " ('versicolor', [77.0, 6.8, 2.8, 4.8, 1.4]),\n",
       " ('versicolor', [78.0, 6.7, 3.0, 5.0, 1.7]),\n",
       " ('versicolor', [79.0, 6.0, 2.9, 4.5, 1.5]),\n",
       " ('versicolor', [80.0, 5.7, 2.6, 3.5, 1.0]),\n",
       " ('versicolor', [81.0, 5.5, 2.4, 3.8, 1.1]),\n",
       " ('versicolor', [82.0, 5.5, 2.4, 3.7, 1.0]),\n",
       " ('versicolor', [83.0, 5.8, 2.7, 3.9, 1.2]),\n",
       " ('versicolor', [84.0, 6.0, 2.7, 5.1, 1.6]),\n",
       " ('versicolor', [85.0, 5.4, 3.0, 4.5, 1.5]),\n",
       " ('versicolor', [86.0, 6.0, 3.4, 4.5, 1.6]),\n",
       " ('versicolor', [87.0, 6.7, 3.1, 4.7, 1.5]),\n",
       " ('versicolor', [88.0, 6.3, 2.3, 4.4, 1.3]),\n",
       " ('versicolor', [89.0, 5.6, 3.0, 4.1, 1.3]),\n",
       " ('versicolor', [90.0, 5.5, 2.5, 4.0, 1.3]),\n",
       " ('versicolor', [91.0, 5.5, 2.6, 4.4, 1.2]),\n",
       " ('versicolor', [92.0, 6.1, 3.0, 4.6, 1.4]),\n",
       " ('versicolor', [93.0, 5.8, 2.6, 4.0, 1.2]),\n",
       " ('versicolor', [94.0, 5.0, 2.3, 3.3, 1.0]),\n",
       " ('versicolor', [95.0, 5.6, 2.7, 4.2, 1.3]),\n",
       " ('versicolor', [96.0, 5.7, 3.0, 4.2, 1.2]),\n",
       " ('versicolor', [97.0, 5.7, 2.9, 4.2, 1.3]),\n",
       " ('versicolor', [98.0, 6.2, 2.9, 4.3, 1.3]),\n",
       " ('versicolor', [99.0, 5.1, 2.5, 3.0, 1.1]),\n",
       " ('versicolor', [100.0, 5.7, 2.8, 4.1, 1.3]),\n",
       " ('virginica', [101.0, 6.3, 3.3, 6.0, 2.5]),\n",
       " ('virginica', [102.0, 5.8, 2.7, 5.1, 1.9]),\n",
       " ('virginica', [103.0, 7.1, 3.0, 5.9, 2.1]),\n",
       " ('virginica', [104.0, 6.3, 2.9, 5.6, 1.8]),\n",
       " ('virginica', [105.0, 6.5, 3.0, 5.8, 2.2]),\n",
       " ('virginica', [106.0, 7.6, 3.0, 6.6, 2.1]),\n",
       " ('virginica', [107.0, 4.9, 2.5, 4.5, 1.7]),\n",
       " ('virginica', [108.0, 7.3, 2.9, 6.3, 1.8]),\n",
       " ('virginica', [109.0, 6.7, 2.5, 5.8, 1.8]),\n",
       " ('virginica', [110.0, 7.2, 3.6, 6.1, 2.5]),\n",
       " ('virginica', [111.0, 6.5, 3.2, 5.1, 2.0]),\n",
       " ('virginica', [112.0, 6.4, 2.7, 5.3, 1.9]),\n",
       " ('virginica', [113.0, 6.8, 3.0, 5.5, 2.1]),\n",
       " ('virginica', [114.0, 5.7, 2.5, 5.0, 2.0]),\n",
       " ('virginica', [115.0, 5.8, 2.8, 5.1, 2.4]),\n",
       " ('virginica', [116.0, 6.4, 3.2, 5.3, 2.3]),\n",
       " ('virginica', [117.0, 6.5, 3.0, 5.5, 1.8]),\n",
       " ('virginica', [118.0, 7.7, 3.8, 6.7, 2.2]),\n",
       " ('virginica', [119.0, 7.7, 2.6, 6.9, 2.3]),\n",
       " ('virginica', [120.0, 6.0, 2.2, 5.0, 1.5]),\n",
       " ('virginica', [121.0, 6.9, 3.2, 5.7, 2.3]),\n",
       " ('virginica', [122.0, 5.6, 2.8, 4.9, 2.0]),\n",
       " ('virginica', [123.0, 7.7, 2.8, 6.7, 2.0]),\n",
       " ('virginica', [124.0, 6.3, 2.7, 4.9, 1.8]),\n",
       " ('virginica', [125.0, 6.7, 3.3, 5.7, 2.1]),\n",
       " ('virginica', [126.0, 7.2, 3.2, 6.0, 1.8]),\n",
       " ('virginica', [127.0, 6.2, 2.8, 4.8, 1.8]),\n",
       " ('virginica', [128.0, 6.1, 3.0, 4.9, 1.8]),\n",
       " ('virginica', [129.0, 6.4, 2.8, 5.6, 2.1]),\n",
       " ('virginica', [130.0, 7.2, 3.0, 5.8, 1.6]),\n",
       " ('virginica', [131.0, 7.4, 2.8, 6.1, 1.9]),\n",
       " ('virginica', [132.0, 7.9, 3.8, 6.4, 2.0]),\n",
       " ('virginica', [133.0, 6.4, 2.8, 5.6, 2.2]),\n",
       " ('virginica', [134.0, 6.3, 2.8, 5.1, 1.5]),\n",
       " ('virginica', [135.0, 6.1, 2.6, 5.6, 1.4]),\n",
       " ('virginica', [136.0, 7.7, 3.0, 6.1, 2.3]),\n",
       " ('virginica', [137.0, 6.3, 3.4, 5.6, 2.4]),\n",
       " ('virginica', [138.0, 6.4, 3.1, 5.5, 1.8]),\n",
       " ('virginica', [139.0, 6.0, 3.0, 4.8, 1.8]),\n",
       " ('virginica', [140.0, 6.9, 3.1, 5.4, 2.1]),\n",
       " ('virginica', [141.0, 6.7, 3.1, 5.6, 2.4]),\n",
       " ('virginica', [142.0, 6.9, 3.1, 5.1, 2.3]),\n",
       " ('virginica', [143.0, 5.8, 2.7, 5.1, 1.9]),\n",
       " ('virginica', [144.0, 6.8, 3.2, 5.9, 2.3]),\n",
       " ('virginica', [145.0, 6.7, 3.3, 5.7, 2.5]),\n",
       " ('virginica', [146.0, 6.7, 3.0, 5.2, 2.3]),\n",
       " ('virginica', [147.0, 6.3, 2.5, 5.0, 1.9]),\n",
       " ('virginica', [148.0, 6.5, 3.0, 5.2, 2.0]),\n",
       " ('virginica', [149.0, 6.2, 3.4, 5.4, 2.3]),\n",
       " ('virginica', [150.0, 5.9, 3.0, 5.1, 1.8])]"
      ]
     },
     "execution_count": 5,
     "metadata": {},
     "output_type": "execute_result"
    }
   ],
   "source": [
    "data.collect()"
   ]
  },
  {
   "cell_type": "code",
   "execution_count": 6,
   "id": "08eddb2a",
   "metadata": {},
   "outputs": [],
   "source": [
    "#准备样本数据和测试数据\n",
    "splits=data.randomSplit([0.7,0.3])\n",
    "sampleData=splits[0]\n",
    "testData=splits[1]"
   ]
  },
  {
   "cell_type": "code",
   "execution_count": 7,
   "id": "1dbd0d8b",
   "metadata": {},
   "outputs": [],
   "source": [
    "sampleDataBrc = sc.broadcast(sampleData.collect())"
   ]
  },
  {
   "cell_type": "code",
   "execution_count": 8,
   "id": "8df3f00f",
   "metadata": {},
   "outputs": [],
   "source": [
    "#获取距离最近的K个样本\n",
    "def getPoint(elem,K):\n",
    "    print(\"begin:elem\")\n",
    "#    dis = sampleDataBrc.value.map(lambda x:(getDis(elem[1],x[1]),x[0]))\n",
    "    dis = [(getDis(elem[1], x[1]), x[0]) for x in sampleDataBrc.value]\n",
    "#    dis = list(elem.map(lambda x:(getDis(elem[1],x[1]),x[0])))\n",
    "    #获取距离最近的k个样本\n",
    "    minDis = sorted(dis,key=lambda x:x[0],reverse=False)[:K]\n",
    "    minDisLabel = [x[0] for x in minDis]\n",
    "    print(minDis)\n",
    "    #取出这k个样本的label并且获取出现最多的label即为测试数据的label\n",
    "    labels = sorted(minDis,key=lambda x:minDisLabel.count(x[0]),reverse = True)\n",
    "    return \"{},{}=>{}\".format(elem[0], elem[1], labels[0][1])"
   ]
  },
  {
   "cell_type": "code",
   "execution_count": 9,
   "id": "9a1491e2",
   "metadata": {},
   "outputs": [],
   "source": [
    "testData = testData.map(lambda x: getPoint(x, K))"
   ]
  },
  {
   "cell_type": "code",
   "execution_count": 10,
   "id": "4b75dc6f",
   "metadata": {},
   "outputs": [
    {
     "data": {
      "text/plain": [
       "['setosa,[2.0, 4.9, 3.0, 1.4, 0.2]=>setosa',\n",
       " 'setosa,[9.0, 4.4, 2.9, 1.4, 0.2]=>setosa',\n",
       " 'setosa,[10.0, 4.9, 3.1, 1.5, 0.1]=>setosa',\n",
       " 'setosa,[13.0, 4.8, 3.0, 1.4, 0.1]=>setosa',\n",
       " 'setosa,[17.0, 5.4, 3.9, 1.3, 0.4]=>setosa',\n",
       " 'setosa,[20.0, 5.1, 3.8, 1.5, 0.3]=>setosa',\n",
       " 'setosa,[21.0, 5.4, 3.4, 1.7, 0.2]=>setosa',\n",
       " 'setosa,[26.0, 5.0, 3.0, 1.6, 0.2]=>setosa',\n",
       " 'setosa,[27.0, 5.0, 3.4, 1.6, 0.4]=>setosa',\n",
       " 'setosa,[30.0, 4.7, 3.2, 1.6, 0.2]=>setosa',\n",
       " 'setosa,[31.0, 4.8, 3.1, 1.6, 0.2]=>setosa',\n",
       " 'setosa,[33.0, 5.2, 4.1, 1.5, 0.1]=>setosa',\n",
       " 'setosa,[36.0, 5.0, 3.2, 1.2, 0.2]=>setosa',\n",
       " 'setosa,[39.0, 4.4, 3.0, 1.3, 0.2]=>setosa',\n",
       " 'setosa,[41.0, 5.0, 3.5, 1.3, 0.3]=>setosa',\n",
       " 'setosa,[43.0, 4.4, 3.2, 1.3, 0.2]=>setosa',\n",
       " 'versicolor,[51.0, 7.0, 3.2, 4.7, 1.4]=>versicolor',\n",
       " 'versicolor,[61.0, 5.0, 2.0, 3.5, 1.0]=>versicolor',\n",
       " 'versicolor,[62.0, 5.9, 3.0, 4.2, 1.5]=>versicolor',\n",
       " 'versicolor,[74.0, 6.1, 2.8, 4.7, 1.2]=>versicolor',\n",
       " 'versicolor,[75.0, 6.4, 2.9, 4.3, 1.3]=>versicolor',\n",
       " 'versicolor,[77.0, 6.8, 2.8, 4.8, 1.4]=>versicolor',\n",
       " 'versicolor,[78.0, 6.7, 3.0, 5.0, 1.7]=>versicolor',\n",
       " 'versicolor,[80.0, 5.7, 2.6, 3.5, 1.0]=>versicolor',\n",
       " 'versicolor,[82.0, 5.5, 2.4, 3.7, 1.0]=>versicolor',\n",
       " 'versicolor,[87.0, 6.7, 3.1, 4.7, 1.5]=>versicolor',\n",
       " 'versicolor,[89.0, 5.6, 3.0, 4.1, 1.3]=>versicolor',\n",
       " 'versicolor,[94.0, 5.0, 2.3, 3.3, 1.0]=>versicolor',\n",
       " 'versicolor,[98.0, 6.2, 2.9, 4.3, 1.3]=>versicolor',\n",
       " 'virginica,[101.0, 6.3, 3.3, 6.0, 2.5]=>virginica',\n",
       " 'virginica,[108.0, 7.3, 2.9, 6.3, 1.8]=>virginica',\n",
       " 'virginica,[112.0, 6.4, 2.7, 5.3, 1.9]=>virginica',\n",
       " 'virginica,[115.0, 5.8, 2.8, 5.1, 2.4]=>virginica',\n",
       " 'virginica,[116.0, 6.4, 3.2, 5.3, 2.3]=>virginica',\n",
       " 'virginica,[117.0, 6.5, 3.0, 5.5, 1.8]=>virginica',\n",
       " 'virginica,[124.0, 6.3, 2.7, 4.9, 1.8]=>virginica',\n",
       " 'virginica,[130.0, 7.2, 3.0, 5.8, 1.6]=>virginica',\n",
       " 'virginica,[132.0, 7.9, 3.8, 6.4, 2.0]=>virginica',\n",
       " 'virginica,[135.0, 6.1, 2.6, 5.6, 1.4]=>virginica',\n",
       " 'virginica,[136.0, 7.7, 3.0, 6.1, 2.3]=>virginica',\n",
       " 'virginica,[137.0, 6.3, 3.4, 5.6, 2.4]=>virginica',\n",
       " 'virginica,[138.0, 6.4, 3.1, 5.5, 1.8]=>virginica',\n",
       " 'virginica,[142.0, 6.9, 3.1, 5.1, 2.3]=>virginica',\n",
       " 'virginica,[143.0, 5.8, 2.7, 5.1, 1.9]=>virginica',\n",
       " 'virginica,[144.0, 6.8, 3.2, 5.9, 2.3]=>virginica',\n",
       " 'virginica,[149.0, 6.2, 3.4, 5.4, 2.3]=>virginica']"
      ]
     },
     "execution_count": 10,
     "metadata": {},
     "output_type": "execute_result"
    }
   ],
   "source": [
    "testData.collect()"
   ]
  },
  {
   "cell_type": "code",
   "execution_count": null,
   "id": "7b76c3a9",
   "metadata": {},
   "outputs": [],
   "source": []
  }
 ],
 "metadata": {
  "kernelspec": {
   "display_name": "pyspark",
   "language": "python",
   "name": "pyspark"
  },
  "language_info": {
   "codemirror_mode": {
    "name": "ipython",
    "version": 3
   },
   "file_extension": ".py",
   "mimetype": "text/x-python",
   "name": "python",
   "nbconvert_exporter": "python",
   "pygments_lexer": "ipython3",
   "version": "3.6.13"
  }
 },
 "nbformat": 4,
 "nbformat_minor": 5
}
